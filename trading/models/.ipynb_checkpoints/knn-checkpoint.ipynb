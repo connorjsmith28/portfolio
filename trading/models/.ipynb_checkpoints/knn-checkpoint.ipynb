{
 "cells": [
  {
   "cell_type": "markdown",
   "source": [
    "# KNN"
   ],
   "metadata": {
    "collapsed": false
   },
   "id": "6c59b38aab92e014"
  },
  {
   "cell_type": "markdown",
   "source": [
    "## Business Objective\n",
    "To make this into an unsupervised learning problem the objective will need to change. This model is now attempting to understand what insights different feature clusters can offer in relation to understanding how different fields may impact the close price of the stock."
   ],
   "metadata": {
    "collapsed": false
   },
   "id": "f717c41e2e164edb"
  },
  {
   "cell_type": "code",
   "source": [
    "# Imports\n",
    "import pandas as pd\n",
    "import seaborn as sns\n",
    "from sklearn import pipeline\n",
    "import itertools\n",
    "from sklearn.cluster import KMeans\n",
    "from sklearn.preprocessing import StandardScaler\n",
    "from matplotlib import pyplot as plt"
   ],
   "metadata": {
    "collapsed": true
   },
   "id": "initial_id",
   "outputs": [],
   "execution_count": null
  },
  {
   "cell_type": "code",
   "source": [
    "# Read csv into dataframe\n",
    "\n",
    "df = pd.read_csv(r'C:\\Users\\connor\\PycharmProjects\\trading\\data\\analytics\\analytics_voo.csv', usecols=['date', 'open', 'high', 'low', 'close', 'volume', 'CPALTT01USM657N', 'DFF', 'EXPINF10YR', 'GDPC1', 'RSXFS', 'T10YFF', 'UNRATE', 'macd', 'macd_signal', 'macd_hist', 'daily_obv', 'seven_day_ema', 'target'])"
   ],
   "metadata": {
    "collapsed": false
   },
   "id": "b0d54fa4f21c2ce9",
   "outputs": [],
   "execution_count": null
  },
  {
   "cell_type": "code",
   "source": [
    "df = df.where(df.date >= '2023-01-01')\n",
    "df.dropna(inplace=True)\n",
    "df.drop(columns=['date'], inplace=True)\n",
    "df.reset_index(drop=True, inplace=True)"
   ],
   "metadata": {
    "collapsed": false
   },
   "id": "91e02dd8f0d7f440",
   "outputs": [],
   "execution_count": null
  },
  {
   "cell_type": "code",
   "source": [
    "plot = sns.pairplot(df, hue='target', diag_kind='hist', height=5)"
   ],
   "metadata": {
    "collapsed": false
   },
   "id": "f195527bc455ad01",
   "outputs": [],
   "execution_count": null
  },
  {
   "cell_type": "code",
   "source": [
    "plot.savefig(r\"C:\\Users\\connor\\PycharmProjects\\trading\\visuals\\pairplot_scatter.png\") "
   ],
   "metadata": {
    "collapsed": false
   },
   "id": "8d13e448dc13eb1c",
   "outputs": [],
   "execution_count": null
  },
  {
   "cell_type": "code",
   "source": [
    "column_list = [column for column in df.columns if column != 'target']\n",
    "cluster_pair_combo = itertools.combinations(column_list, 2)"
   ],
   "metadata": {
    "collapsed": false
   },
   "id": "1e9d10493ade877",
   "outputs": [],
   "execution_count": null
  },
  {
   "cell_type": "code",
   "source": [
    "# create pipeline object with scaling preprocessing step and KMeans model\n",
    "# KMeans is sensitive to differing scales between columns so need to scale the data first\n",
    "# n_clusters = 2. Want to find a single feature that has the most impact on close price\n",
    "pipe_kmeans = pipeline.make_pipeline(\n",
    "    StandardScaler(),\n",
    "    KMeans(n_clusters=2,\n",
    "            init='random',\n",
    "            n_init=10,\n",
    "            max_iter=300,\n",
    "            tol=1e-04,                      \n",
    "            random_state=0)\n",
    ")"
   ],
   "metadata": {
    "collapsed": false
   },
   "id": "535076c67388da47",
   "outputs": [],
   "execution_count": null
  },
  {
   "cell_type": "code",
   "source": [
    "kmeans_model = KMeans(n_clusters=2,\n",
    "        init='random',\n",
    "        n_init=10,\n",
    "        max_iter=300,\n",
    "        tol=1e-04,\n",
    "        random_state=0)"
   ],
   "metadata": {
    "collapsed": false
   },
   "id": "181edc3e4bc7b32a",
   "outputs": [],
   "execution_count": null
  },
  {
   "cell_type": "code",
   "source": [
    "def print_cluster(model, n_clusters, X):\n",
    "    y_km = model.fit_predict(X)\n",
    "    predictions = pd.DataFrame(y_km, columns=['cluster_group'])\n",
    "    data = pd.concat([X, predictions], ignore_index=True, axis=1)\n",
    "    data.columns = [X.columns[0], X.columns[1], 'clusters']\n",
    "    \n",
    "    marker_list = ['s', 'x', 'd', 'o']\n",
    "    color_list = ['lightgreen', 'orange', 'lightblue', 'red', 'yellow', 'brown', 'cyan']\n",
    "    for i in range(n_clusters):\n",
    "        sns.scatterplot(\n",
    "        data=data,\n",
    "        x=data[data.columns[0]],\n",
    "        y=data[data.columns[1]],\n",
    "        hue=data[data.columns[2]],\n",
    "        s=50,\n",
    "        c=color_list[2*i],\n",
    "        marker=marker_list[2*i],\n",
    "        #label='cluster ' + str(i)\n",
    "        )\n",
    "    plt.legend()\n",
    "    plt.grid()\n",
    "    plt.tight_layout()\n",
    "    plt.clabel\n",
    "    plt.show()"
   ],
   "metadata": {
    "collapsed": false
   },
   "id": "3d81e5dc5486e393",
   "outputs": [],
   "execution_count": null
  },
  {
   "cell_type": "code",
   "source": [
    "for pair in cluster_pair_combo:\n",
    "    df_plot_fields = df[[pair[0], pair[1]]]\n",
    "    print_cluster(kmeans_model, 2, df_plot_fields)"
   ],
   "metadata": {
    "collapsed": false
   },
   "id": "84b92eb2bb850d04",
   "outputs": [],
   "execution_count": null
  },
  {
   "cell_type": "markdown",
   "source": [
    "# Writeup\n",
    "For each model prepare a report showing results obtained and hyperparameter values used, justification for dimensionality reduction (or not) including supporting data, resulting conclusions for each model regarding potential fit. \n",
    "\n",
    "Hyper-parameters used: \n",
    "* n_clusters=2\n",
    "* init='random'\n",
    "* n_init=10\n",
    "* max_iter=300\n",
    "* tol=1e-04\n",
    "* random_state=0\n",
    "\n",
    "I settled on 2 clusters since I want to visually observe each pairs relationship to understand if there might be any strong relationships between fields. I also want to color it by the target price to see if any 2-pair combination of fields very noticably slices the target field. \n",
    "I set the initial cluster locations to random. I have no strong preference on this value and don't expect it to matter given enough iterations. \n",
    "n_init set to 10 to increase probability we don't have bad initial start seeds\n",
    "max_iter to 300. Just a large enough number to again ensure we have good clusters but not so many that there aren't performance improvements relative to the time trade-off of running the algorithm many more times. \n",
    "tol=set to default value\n",
    "random_state set to 0 to ensure reproducability of results. \n",
    "\n",
    "I did not use dimensionality reduction since I'm using unsupervised learning in this problem. If you don't know what the target field is there isn't a way to choose the top k best features since by definition of the problem there is no target to take the best feauters of. \n",
    "\n",
    "\n",
    "\n",
    "    "
   ],
   "metadata": {
    "collapsed": false
   },
   "id": "f7dd50cd9aea8694"
  },
  {
   "cell_type": "code",
   "source": [],
   "metadata": {
    "collapsed": false
   },
   "id": "654e4dad8482a546",
   "outputs": [],
   "execution_count": null
  },
  {
   "cell_type": "code",
   "source": [],
   "metadata": {
    "collapsed": false
   },
   "id": "b623b6052a8e92bf",
   "outputs": [],
   "execution_count": null
  },
  {
   "cell_type": "code",
   "source": [],
   "metadata": {
    "collapsed": false
   },
   "id": "7723aedaae21f1a0",
   "outputs": [],
   "execution_count": null
  }
 ],
 "metadata": {
  "kernelspec": {
   "display_name": "Python 3",
   "language": "python",
   "name": "python3"
  },
  "language_info": {
   "codemirror_mode": {
    "name": "ipython",
    "version": 2
   },
   "file_extension": ".py",
   "mimetype": "text/x-python",
   "name": "python",
   "nbconvert_exporter": "python",
   "pygments_lexer": "ipython2",
   "version": "2.7.6"
  }
 },
 "nbformat": 4,
 "nbformat_minor": 5
}
